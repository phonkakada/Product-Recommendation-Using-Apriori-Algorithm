{
 "cells": [
  {
   "metadata": {},
   "cell_type": "markdown",
   "source": [
    "# This is a sample Jupyter Notebook\n",
    "\n",
    "Below is an example of a code cell. \n",
    "Put your cursor into the cell and press Shift+Enter to execute it and select the next one, or click !here goes the icon of the corresponding button in the gutter! button.\n",
    "To debug a cell, press Alt+Shift+Enter, or click !here goes the icon of the corresponding button in the gutter! button.\n",
    "\n",
    "Press Double Shift to search everywhere for classes, files, tool windows, actions, and settings.\n",
    "\n",
    "To learn more about Jupyter Notebooks in PyCharm, see [help](https://www.jetbrains.com/help/pycharm/jupyter-notebook-support.html).\n",
    "For an overview of PyCharm, go to Help -> Learn IDE features or refer to [our documentation](https://www.jetbrains.com/help/pycharm/getting-started.html)."
   ],
   "id": "8a77807f92f26ee"
  },
  {
   "metadata": {
    "ExecuteTime": {
     "end_time": "2024-12-23T07:29:41.714789Z",
     "start_time": "2024-12-23T07:29:04.367004Z"
    }
   },
   "cell_type": "code",
   "source": [
    "import pandas as pd\n",
    "from mlxtend.preprocessing import TransactionEncoder\n",
    "from mlxtend.frequent_patterns import apriori, association_rules\n",
    "# Collect Data\n",
    "\n",
    "df = pd.read_excel(\"data/online_retail_II.xlsx\")\n",
    "df.head()"
   ],
   "id": "fbc121e30a2defb3",
   "outputs": [
    {
     "data": {
      "text/plain": [
       "  Invoice StockCode                          Description  Quantity  \\\n",
       "0  489434     85048  15CM CHRISTMAS GLASS BALL 20 LIGHTS        12   \n",
       "1  489434    79323P                   PINK CHERRY LIGHTS        12   \n",
       "2  489434    79323W                  WHITE CHERRY LIGHTS        12   \n",
       "3  489434     22041         RECORD FRAME 7\" SINGLE SIZE         48   \n",
       "4  489434     21232       STRAWBERRY CERAMIC TRINKET BOX        24   \n",
       "\n",
       "          InvoiceDate  Price  Customer ID         Country  \n",
       "0 2009-12-01 07:45:00   6.95      13085.0  United Kingdom  \n",
       "1 2009-12-01 07:45:00   6.75      13085.0  United Kingdom  \n",
       "2 2009-12-01 07:45:00   6.75      13085.0  United Kingdom  \n",
       "3 2009-12-01 07:45:00   2.10      13085.0  United Kingdom  \n",
       "4 2009-12-01 07:45:00   1.25      13085.0  United Kingdom  "
      ],
      "text/html": [
       "<div>\n",
       "<style scoped>\n",
       "    .dataframe tbody tr th:only-of-type {\n",
       "        vertical-align: middle;\n",
       "    }\n",
       "\n",
       "    .dataframe tbody tr th {\n",
       "        vertical-align: top;\n",
       "    }\n",
       "\n",
       "    .dataframe thead th {\n",
       "        text-align: right;\n",
       "    }\n",
       "</style>\n",
       "<table border=\"1\" class=\"dataframe\">\n",
       "  <thead>\n",
       "    <tr style=\"text-align: right;\">\n",
       "      <th></th>\n",
       "      <th>Invoice</th>\n",
       "      <th>StockCode</th>\n",
       "      <th>Description</th>\n",
       "      <th>Quantity</th>\n",
       "      <th>InvoiceDate</th>\n",
       "      <th>Price</th>\n",
       "      <th>Customer ID</th>\n",
       "      <th>Country</th>\n",
       "    </tr>\n",
       "  </thead>\n",
       "  <tbody>\n",
       "    <tr>\n",
       "      <th>0</th>\n",
       "      <td>489434</td>\n",
       "      <td>85048</td>\n",
       "      <td>15CM CHRISTMAS GLASS BALL 20 LIGHTS</td>\n",
       "      <td>12</td>\n",
       "      <td>2009-12-01 07:45:00</td>\n",
       "      <td>6.95</td>\n",
       "      <td>13085.0</td>\n",
       "      <td>United Kingdom</td>\n",
       "    </tr>\n",
       "    <tr>\n",
       "      <th>1</th>\n",
       "      <td>489434</td>\n",
       "      <td>79323P</td>\n",
       "      <td>PINK CHERRY LIGHTS</td>\n",
       "      <td>12</td>\n",
       "      <td>2009-12-01 07:45:00</td>\n",
       "      <td>6.75</td>\n",
       "      <td>13085.0</td>\n",
       "      <td>United Kingdom</td>\n",
       "    </tr>\n",
       "    <tr>\n",
       "      <th>2</th>\n",
       "      <td>489434</td>\n",
       "      <td>79323W</td>\n",
       "      <td>WHITE CHERRY LIGHTS</td>\n",
       "      <td>12</td>\n",
       "      <td>2009-12-01 07:45:00</td>\n",
       "      <td>6.75</td>\n",
       "      <td>13085.0</td>\n",
       "      <td>United Kingdom</td>\n",
       "    </tr>\n",
       "    <tr>\n",
       "      <th>3</th>\n",
       "      <td>489434</td>\n",
       "      <td>22041</td>\n",
       "      <td>RECORD FRAME 7\" SINGLE SIZE</td>\n",
       "      <td>48</td>\n",
       "      <td>2009-12-01 07:45:00</td>\n",
       "      <td>2.10</td>\n",
       "      <td>13085.0</td>\n",
       "      <td>United Kingdom</td>\n",
       "    </tr>\n",
       "    <tr>\n",
       "      <th>4</th>\n",
       "      <td>489434</td>\n",
       "      <td>21232</td>\n",
       "      <td>STRAWBERRY CERAMIC TRINKET BOX</td>\n",
       "      <td>24</td>\n",
       "      <td>2009-12-01 07:45:00</td>\n",
       "      <td>1.25</td>\n",
       "      <td>13085.0</td>\n",
       "      <td>United Kingdom</td>\n",
       "    </tr>\n",
       "  </tbody>\n",
       "</table>\n",
       "</div>"
      ]
     },
     "execution_count": 63,
     "metadata": {},
     "output_type": "execute_result"
    }
   ],
   "execution_count": 63
  },
  {
   "metadata": {
    "ExecuteTime": {
     "end_time": "2024-12-23T07:29:41.814012Z",
     "start_time": "2024-12-23T07:29:41.716956Z"
    }
   },
   "cell_type": "code",
   "source": [
    "# Clean Data\n",
    "df.dropna(subset=[\"Customer ID\", \"Description\"])\n",
    "df = df[ df['Quantity'] > 0]"
   ],
   "id": "16aea1030518821d",
   "outputs": [],
   "execution_count": 64
  },
  {
   "metadata": {
    "ExecuteTime": {
     "end_time": "2024-12-23T07:39:57.795632Z",
     "start_time": "2024-12-23T07:39:57.086142Z"
    }
   },
   "cell_type": "code",
   "source": [
    "# Create Transaction Baskets\n",
    "transactions = df.groupby('Invoice')['Description'].apply(list).tolist()\n",
    "# Keep only rows where 'Description' is a string\n",
    "df = df[df['Description'].apply(lambda x: isinstance(x, str))]\n",
    "# Replace non-string descriptions with a placeholder\n",
    "df['Description'] = df['Description'].apply(lambda x: str(x) if isinstance(x, str) else 'Unknown')"
   ],
   "id": "5a9bf8562d55f258",
   "outputs": [],
   "execution_count": 69
  },
  {
   "metadata": {
    "ExecuteTime": {
     "end_time": "2024-12-23T08:11:06.169613Z",
     "start_time": "2024-12-23T08:09:43.849941Z"
    }
   },
   "cell_type": "code",
   "source": [
    "# Apriori Algorithm\n",
    "\n",
    "# Convert transaction data into one-hot encoded format\n",
    "te = TransactionEncoder()\n",
    "te_ary = te.fit(transactions).transform(transactions)\n",
    "df_transactions = pd.DataFrame(te_ary, columns=te.columns_)\n",
    "\n",
    "# Find frequent item sets\n",
    "min_support = 0.01\n",
    "min_confidence = 0.3\n",
    "min_lift = 1.0\n",
    "frequent_item_sets = apriori(df_transactions, min_support=min_support , use_colnames=True)\n",
    "print(frequent_item_sets)"
   ],
   "id": "35ff319222f5e4c5",
   "outputs": [
    {
     "name": "stdout",
     "output_type": "stream",
     "text": [
      "       support                                           itemsets\n",
      "0     0.010999                 ( SET 2 TEA TOWELS I LOVE LONDON )\n",
      "1     0.011570                             ( WHITE CHERRY LIGHTS)\n",
      "2     0.013856                           (10 COLOUR SPACEBOY PEN)\n",
      "3     0.010142                  (12 MESSAGE CARDS WITH ENVELOPES)\n",
      "4     0.015475                    (12 PENCIL SMALL TUBE WOODLAND)\n",
      "...        ...                                                ...\n",
      "1088  0.013523  (STRAWBERRY CERAMIC TRINKET BOX, WHITE HANGING...\n",
      "1089  0.014903  (WOODEN PICTURE FRAME WHITE FINISH, WHITE HANG...\n",
      "1090  0.010713  (WOOD 2 DRAWER CABINET WHITE FINISH, WOOD S/3 ...\n",
      "1091  0.011189  (WOOD 2 DRAWER CABINET WHITE FINISH, WOODEN PI...\n",
      "1092  0.010904  (WOODEN PICTURE FRAME WHITE FINISH, WOOD S/3 C...\n",
      "\n",
      "[1093 rows x 2 columns]\n",
      "                                           antecedents  \\\n",
      "0                             (6 RIBBONS RUSTIC CHARM)   \n",
      "1                           (REGENCY CAKESTAND 3 TIER)   \n",
      "2                             (6 RIBBONS RUSTIC CHARM)   \n",
      "3                 (WHITE HANGING HEART T-LIGHT HOLDER)   \n",
      "4                    (60 CAKE CASES VINTAGE CHRISTMAS)   \n",
      "..                                                 ...   \n",
      "865  (WOODEN PICTURE FRAME WHITE FINISH, WOODEN FRA...   \n",
      "866  (WOODEN FRAME ANTIQUE WHITE , WOOD S/3 CABINET...   \n",
      "867                (WOODEN PICTURE FRAME WHITE FINISH)   \n",
      "868                (WOOD S/3 CABINET ANT WHITE FINISH)   \n",
      "869                      (WOODEN FRAME ANTIQUE WHITE )   \n",
      "\n",
      "                                           consequents  antecedent support  \\\n",
      "0                           (REGENCY CAKESTAND 3 TIER)            0.039806   \n",
      "1                             (6 RIBBONS RUSTIC CHARM)            0.096181   \n",
      "2                 (WHITE HANGING HEART T-LIGHT HOLDER)            0.039806   \n",
      "3                             (6 RIBBONS RUSTIC CHARM)            0.157890   \n",
      "4                  (PAPER CHAIN KIT VINTAGE CHRISTMAS)            0.022474   \n",
      "..                                                 ...                 ...   \n",
      "865                (WOOD S/3 CABINET ANT WHITE FINISH)            0.028807   \n",
      "866                (WOODEN PICTURE FRAME WHITE FINISH)            0.015570   \n",
      "867  (WOODEN FRAME ANTIQUE WHITE , WOOD S/3 CABINET...            0.045091   \n",
      "868  (WOODEN PICTURE FRAME WHITE FINISH, WOODEN FRA...            0.033663   \n",
      "869  (WOODEN PICTURE FRAME WHITE FINISH, WOOD S/3 C...            0.054281   \n",
      "\n",
      "     consequent support   support  confidence       lift  representativity  \\\n",
      "0              0.096181  0.010618    0.266746   2.773370               1.0   \n",
      "1              0.039806  0.010618    0.110396   2.773370               1.0   \n",
      "2              0.157890  0.012142    0.305024   1.931880               1.0   \n",
      "3              0.039806  0.012142    0.076900   1.931880               1.0   \n",
      "4              0.032806  0.010380    0.461864  14.078485               1.0   \n",
      "..                  ...       ...         ...        ...               ...   \n",
      "865            0.033663  0.010904    0.378512  11.244013               1.0   \n",
      "866            0.045091  0.010904    0.700306  15.530964               1.0   \n",
      "867            0.015570  0.010904    0.241816  15.530964               1.0   \n",
      "868            0.028807  0.010904    0.323904  11.244013               1.0   \n",
      "869            0.012808  0.010904    0.200877  15.683356               1.0   \n",
      "\n",
      "     leverage  conviction  zhangs_metric   jaccard  certainty  kulczynski  \n",
      "0    0.006789    1.232614       0.665936  0.084694   0.188716    0.188571  \n",
      "1    0.006789    1.079350       0.707474  0.084694   0.073517    0.188571  \n",
      "2    0.005857    1.211711       0.502366  0.065435   0.174721    0.190962  \n",
      "3    0.005857    1.040184       0.572810  0.065435   0.038632    0.190962  \n",
      "4    0.009643    1.797305       0.950327  0.231177   0.443611    0.389132  \n",
      "..        ...         ...            ...       ...        ...         ...  \n",
      "865  0.009934    1.554877       0.938087  0.211450   0.356862    0.351208  \n",
      "866  0.010202    3.186278       0.950410  0.219139   0.686154    0.471061  \n",
      "867  0.010202    1.298406       0.979792  0.219139   0.229825    0.471061  \n",
      "868  0.009934    1.436472       0.942802  0.211450   0.303850    0.351208  \n",
      "869  0.010208    1.235344       0.989974  0.194068   0.190509    0.526089  \n",
      "\n",
      "[870 rows x 14 columns]\n"
     ]
    }
   ],
   "execution_count": 93
  },
  {
   "metadata": {
    "ExecuteTime": {
     "end_time": "2024-12-23T08:41:29.995637Z",
     "start_time": "2024-12-23T08:41:29.977783Z"
    }
   },
   "cell_type": "code",
   "source": [
    "# Generate association rules\n",
    "rules = association_rules(frequent_item_sets, metric=\"lift\", min_threshold=1.0 , num_itemsets= len(frequent_item_sets))\n",
    "\n",
    "rules_list = list(rules)\n",
    "print(\"\\nTotal Rules length\" , len(rules_list))\n",
    "print(\"\\nAssociation Rules : \")\n",
    "print(rules)"
   ],
   "id": "8f49f28a20af6d3b",
   "outputs": [
    {
     "name": "stdout",
     "output_type": "stream",
     "text": [
      "\n",
      "Total Rules length 14\n",
      "\n",
      "Association Rules : \n",
      "                                           antecedents  \\\n",
      "0                             (6 RIBBONS RUSTIC CHARM)   \n",
      "1                           (REGENCY CAKESTAND 3 TIER)   \n",
      "2                             (6 RIBBONS RUSTIC CHARM)   \n",
      "3                 (WHITE HANGING HEART T-LIGHT HOLDER)   \n",
      "4                    (60 CAKE CASES VINTAGE CHRISTMAS)   \n",
      "..                                                 ...   \n",
      "865  (WOODEN PICTURE FRAME WHITE FINISH, WOODEN FRA...   \n",
      "866  (WOODEN FRAME ANTIQUE WHITE , WOOD S/3 CABINET...   \n",
      "867                (WOODEN PICTURE FRAME WHITE FINISH)   \n",
      "868                (WOOD S/3 CABINET ANT WHITE FINISH)   \n",
      "869                      (WOODEN FRAME ANTIQUE WHITE )   \n",
      "\n",
      "                                           consequents  antecedent support  \\\n",
      "0                           (REGENCY CAKESTAND 3 TIER)            0.039806   \n",
      "1                             (6 RIBBONS RUSTIC CHARM)            0.096181   \n",
      "2                 (WHITE HANGING HEART T-LIGHT HOLDER)            0.039806   \n",
      "3                             (6 RIBBONS RUSTIC CHARM)            0.157890   \n",
      "4                  (PAPER CHAIN KIT VINTAGE CHRISTMAS)            0.022474   \n",
      "..                                                 ...                 ...   \n",
      "865                (WOOD S/3 CABINET ANT WHITE FINISH)            0.028807   \n",
      "866                (WOODEN PICTURE FRAME WHITE FINISH)            0.015570   \n",
      "867  (WOODEN FRAME ANTIQUE WHITE , WOOD S/3 CABINET...            0.045091   \n",
      "868  (WOODEN PICTURE FRAME WHITE FINISH, WOODEN FRA...            0.033663   \n",
      "869  (WOODEN PICTURE FRAME WHITE FINISH, WOOD S/3 C...            0.054281   \n",
      "\n",
      "     consequent support   support  confidence       lift  representativity  \\\n",
      "0              0.096181  0.010618    0.266746   2.773370               1.0   \n",
      "1              0.039806  0.010618    0.110396   2.773370               1.0   \n",
      "2              0.157890  0.012142    0.305024   1.931880               1.0   \n",
      "3              0.039806  0.012142    0.076900   1.931880               1.0   \n",
      "4              0.032806  0.010380    0.461864  14.078485               1.0   \n",
      "..                  ...       ...         ...        ...               ...   \n",
      "865            0.033663  0.010904    0.378512  11.244013               1.0   \n",
      "866            0.045091  0.010904    0.700306  15.530964               1.0   \n",
      "867            0.015570  0.010904    0.241816  15.530964               1.0   \n",
      "868            0.028807  0.010904    0.323904  11.244013               1.0   \n",
      "869            0.012808  0.010904    0.200877  15.683356               1.0   \n",
      "\n",
      "     leverage  conviction  zhangs_metric   jaccard  certainty  kulczynski  \n",
      "0    0.006789    1.232614       0.665936  0.084694   0.188716    0.188571  \n",
      "1    0.006789    1.079350       0.707474  0.084694   0.073517    0.188571  \n",
      "2    0.005857    1.211711       0.502366  0.065435   0.174721    0.190962  \n",
      "3    0.005857    1.040184       0.572810  0.065435   0.038632    0.190962  \n",
      "4    0.009643    1.797305       0.950327  0.231177   0.443611    0.389132  \n",
      "..        ...         ...            ...       ...        ...         ...  \n",
      "865  0.009934    1.554877       0.938087  0.211450   0.356862    0.351208  \n",
      "866  0.010202    3.186278       0.950410  0.219139   0.686154    0.471061  \n",
      "867  0.010202    1.298406       0.979792  0.219139   0.229825    0.471061  \n",
      "868  0.009934    1.436472       0.942802  0.211450   0.303850    0.351208  \n",
      "869  0.010208    1.235344       0.989974  0.194068   0.190509    0.526089  \n",
      "\n",
      "[870 rows x 14 columns]\n"
     ]
    }
   ],
   "execution_count": 119
  },
  {
   "metadata": {
    "ExecuteTime": {
     "end_time": "2024-12-23T08:43:44.305029Z",
     "start_time": "2024-12-23T08:43:44.294961Z"
    }
   },
   "cell_type": "code",
   "source": [
    "# Create function Product Recommendation\n",
    "def recommend_products(input_items, rules, top_n=3):\n",
    "    recommendations = rules[rules['antecedents'].apply(lambda x: set(input_items).issubset(x))]\n",
    "    return recommendations.sort_values(by='lift', ascending=False).head(top_n)['consequents']\n",
    "\n",
    "# Test the recommendation function\n",
    "print(\"Recommendation Products : \")\n",
    "recommend_products(['HOT WATER BOTTLE TEA AND SYMPATHY'], rules)"
   ],
   "id": "e12bc0c4517b40ae",
   "outputs": [
    {
     "name": "stdout",
     "output_type": "stream",
     "text": [
      "Recommendation Products : \n"
     ]
    },
    {
     "data": {
      "text/plain": [
       "113             (CHOCOLATE HOT WATER BOTTLE)\n",
       "261    (KNITTED UNION FLAG HOT WATER BOTTLE)\n",
       "263         (RED WOOLLY HOTTIE WHITE HEART.)\n",
       "Name: consequents, dtype: object"
      ]
     },
     "execution_count": 123,
     "metadata": {},
     "output_type": "execute_result"
    }
   ],
   "execution_count": 123
  },
  {
   "metadata": {
    "ExecuteTime": {
     "end_time": "2024-12-23T08:09:19.082630Z",
     "start_time": "2024-12-23T08:09:19.080589Z"
    }
   },
   "cell_type": "code",
   "source": "",
   "id": "b7d42f1ca6a16ba6",
   "outputs": [],
   "execution_count": 92
  },
  {
   "metadata": {
    "ExecuteTime": {
     "end_time": "2024-12-23T08:09:19.769740Z",
     "start_time": "2024-12-23T08:09:19.767305Z"
    }
   },
   "cell_type": "code",
   "source": "",
   "id": "97a3c25c59d06647",
   "outputs": [],
   "execution_count": 92
  },
  {
   "metadata": {},
   "cell_type": "code",
   "outputs": [],
   "execution_count": null,
   "source": "",
   "id": "1b80c63835c645a8"
  }
 ],
 "metadata": {
  "kernelspec": {
   "display_name": "Python 3",
   "language": "python",
   "name": "python3"
  },
  "language_info": {
   "codemirror_mode": {
    "name": "ipython",
    "version": 2
   },
   "file_extension": ".py",
   "mimetype": "text/x-python",
   "name": "python",
   "nbconvert_exporter": "python",
   "pygments_lexer": "ipython2",
   "version": "2.7.6"
  }
 },
 "nbformat": 4,
 "nbformat_minor": 5
}
